{
 "cells": [
  {
   "cell_type": "markdown",
   "metadata": {},
   "source": [
    "# 2)"
   ]
  },
  {
   "cell_type": "markdown",
   "metadata": {},
   "source": [
    "The following set of mathematical equations represents the Cahn-Hilliard equation formulated in the Fourier space with convex splitting as stated in the problem text. To find how a new solution $\\hat{u}^{n+1}$ is computed from $\\hat{u}^{n}$, we first have to find an explicit equation for the first step $\\hat{u}^{(1)}$:"
   ]
  },
  {
   "cell_type": "markdown",
   "metadata": {},
   "source": [
    "$$\n",
    "\\hat{u}^{(1)} = \\hat{u}^{n} + \\tau(\\kappa\\tilde{k}^{4}\\hat{u}^{(1)}+a\\tilde{k}^{2}\\hat{u}^{n}+\\tilde{k}^{2}(\\hat{u}^{n})^{3}-(1+a)\\tilde{k}^{2}\\hat{u}^{n})\\\\\\\\\n",
    "\\hat{u}^{(1)}-\\tau\\kappa\\tilde{k}^{4}\\hat{u}^{(1)} = \\hat{u}^{n} + \\tau(a\\tilde{k}^{2}\\hat{u}^{n}+\\tilde{k}^{2}(\\hat{u}^{n})^{3}-(1+a)\\tilde{k}^{2}\\hat{u}^{n})\\\\\\\\\n",
    "\\hat{u}^{(1)}(1-\\tau\\kappa\\tilde{k}^{4}) = \\hat{u}^{n} + \\tau(a\\tilde{k}^{2}\\hat{u}^{n}+\\tilde{k}^{2}(\\hat{u}^{n})^{3}-(1+a)\\tilde{k}^{2}\\hat{u}^{n})\\\\\\\\\n",
    "\\hat{u}^{(1)} =\\frac{\\hat{u}^{n} + \\tau(a\\tilde{k}^{2}\\hat{u}^{n}+\\tilde{k}^{2}(\\hat{u}^{n})^{3}-(1+a)\\tilde{k}^{2}\\hat{u}^{n})}{(1-\\tau\\kappa\\tilde{k}^{4})}\n",
    "$$"
   ]
  },
  {
   "cell_type": "markdown",
   "metadata": {},
   "source": [
    "Now we can find an explicit equation for the following step $\\hat{u}^{(2)}$. The coeffitients $\\beta_i, \\alpha_{ij}$ are not decided, since any one of the four suggestets sets of coeffitients is usable."
   ]
  },
  {
   "cell_type": "markdown",
   "metadata": {},
   "source": [
    "$$\n",
    "\\hat{u}^{(2)} = \\alpha_{10}\\hat{u}^{n} + \\alpha_{11}\\hat{u}^{(1)}  \\beta_{1}\\tau(\\kappa\\tilde{k}^{4}\\hat{u}^{(2)}+a\\tilde{k}^{2}\\hat{u}^{(1)}+\\tilde{k}^{2}(\\hat{u}^{(1)})^{3}-(1+a)\\tilde{k}^{2}\\hat{u}^{(1)})\\\\\\\\\n",
    "\\hat{u}^{(2)} - \\beta_{1}\\tau\\kappa\\tilde{k}^{4}\\hat{u}^{(2)}= \\alpha_{10}\\hat{u}^{n} + \\alpha_{11}\\hat{u}^{(1)}  \\beta_{1}\\tau(a\\tilde{k}^{2}\\hat{u}^{(1)}+\\tilde{k}^{2}(\\hat{u}^{(1)})^{3}-(1+a)\\tilde{k}^{2}\\hat{u}^{(1)})\\\\\\\\\n",
    "\\hat{u}^{(2)}(1- \\beta_{1}\\tau\\kappa\\tilde{k}^{4})= \\alpha_{10}\\hat{u}^{n} + \\alpha_{11}\\hat{u}^{(1)}  \\beta_{1}\\tau(a\\tilde{k}^{2}\\hat{u}^{(1)}+\\tilde{k}^{2}(\\hat{u}^{(1)})^{3}-(1+a)\\tilde{k}^{2}\\hat{u}^{(1)})\\\\\\\\\n",
    "\\hat{u}^{(2)}=\\frac{\\alpha_{10}\\hat{u}^{n} + \\alpha_{11}\\hat{u}^{(1)}  \\beta_{1}\\tau(a\\tilde{k}^{2}\\hat{u}^{(1)}+\\tilde{k}^{2}(\\hat{u}^{(1)})^{3}-(1+a)\\tilde{k}^{2}\\hat{u}^{(1)})}{(1- \\beta_{1}\\tau\\kappa\\tilde{k}^{4})}\\\\\\\\\n",
    "$$\n"
   ]
  },
  {
   "cell_type": "markdown",
   "metadata": {},
   "source": [
    "Now we can find how $\\hat{u}^{(1)}$ and $\\hat{u}^{(2)}$ contribute to calculating $\\hat{u}^{n+1}$. For simplicity reasons we continue to use $\\hat{u}^{(1)}$ and $\\hat{u}^{(2)}$ instead of the right hand side of their respective equations."
   ]
  },
  {
   "cell_type": "markdown",
   "metadata": {},
   "source": [
    "$$\n",
    "\\hat{u}^{n+1} = \\alpha_{20}\\hat{u}^{n} + \\alpha_{21}\\hat{u}^{(1)} + \\alpha_{22}\\hat{u}^{(2)}  \\beta_{2}\\tau(\\kappa\\tilde{k}^{4}\\hat{u}^{n+1}+a\\tilde{k}^{2}\\hat{u}^{(2)}+\\tilde{k}^{2}(\\hat{u}^{(2)})^{3}-(1+a)\\tilde{k}^{2}\\hat{u}^{(2)})\\\\\\\\\n",
    "\\hat{u}^{n+1} - \\beta_{2}\\tau\\kappa\\tilde{k}^{4}\\hat{u}^{n+1} = \\alpha_{20}\\hat{u}^{n} + \\alpha_{21}\\hat{u}^{(1)} + \\alpha_{22}\\hat{u}^{(2)}  \\beta_{2}\\tau(a\\tilde{k}^{2}\\hat{u}^{(2)}+\\tilde{k}^{2}(\\hat{u}^{(2)})^{3}-(1+a)\\tilde{k}^{2}\\hat{u}^{(2)})\\\\\\\\\n",
    "\\hat{u}^{n+1}(1- \\beta_{2}\\tau\\kappa\\tilde{k}^{4})= \\alpha_{20}\\hat{u}^{n} + \\alpha_{21}\\hat{u}^{(1)} + \\alpha_{22}\\hat{u}^{(2)}  \\beta_{2}\\tau(a\\tilde{k}^{2}\\hat{u}^{(2)}+\\tilde{k}^{2}(\\hat{u}^{(2)})^{3}-(1+a)\\tilde{k}^{2}\\hat{u}^{(2)})\\\\\\\\\n",
    "\\hat{u}^{n+1}=\\frac{\\alpha_{20}\\hat{u}^{n} + \\alpha_{21}\\hat{u}^{(1)} + \\alpha_{22}\\hat{u}^{(2)}  \\beta_{2}\\tau(a\\tilde{k}^{2}\\hat{u}^{(2)}+\\tilde{k}^{2}(\\hat{u}^{(2)})^{3}-(1+a)\\tilde{k}^{2}\\hat{u}^{(2)})}{(1- \\beta_{2}\\tau\\kappa\\tilde{k}^{4})}\\\\\\\\\n",
    "\n",
    "$$"
   ]
  }
 ],
 "metadata": {
  "jupytext": {
   "formats": "ipynb,md:myst"
  },
  "kernelspec": {
   "display_name": "Python 3",
   "language": "python",
   "name": "python3"
  },
  "language_info": {
   "codemirror_mode": {
    "name": "ipython",
    "version": 3
   },
   "file_extension": ".py",
   "mimetype": "text/x-python",
   "name": "python",
   "nbconvert_exporter": "python",
   "pygments_lexer": "ipython3",
   "version": "3.11.9"
  }
 },
 "nbformat": 4,
 "nbformat_minor": 2
}
